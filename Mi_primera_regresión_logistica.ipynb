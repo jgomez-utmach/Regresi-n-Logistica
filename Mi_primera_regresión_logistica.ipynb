{
 "cells": [
  {
   "cell_type": "code",
   "execution_count": 1,
   "id": "9e4cdb52-4a36-4f3c-bc4c-f02cd2003968",
   "metadata": {},
   "outputs": [],
   "source": [
    "from sklearn.datasets import load_digits\n",
    "import pandas as pd\n",
    "import matplotlib.pyplot as plt\n",
    "import seaborn as sns\n",
    "import numpy as np\n",
    "from sklearn.linear_model import LogisticRegression\n",
    "from sklearn.preprocessing import StandardScaler"
   ]
  },
  {
   "cell_type": "code",
   "execution_count": 2,
   "id": "d3b2dec1-42bd-4f51-9899-d027d84f59f2",
   "metadata": {},
   "outputs": [],
   "source": [
    "# Digits es un dataset que contiene información de imagenes representadas en arrays de numeros\n",
    "digits = load_digits()"
   ]
  },
  {
   "cell_type": "code",
   "execution_count": 65,
   "id": "1bfc7314-82ef-48ee-94b7-5ed279c52305",
   "metadata": {},
   "outputs": [
    {
     "data": {
      "text/plain": [
       "array([ 0.,  0.,  5., 13.,  9.,  1.,  0.,  0.,  0.,  0., 13., 15., 10.,\n",
       "       15.,  5.,  0.,  0.,  3., 15.,  2.,  0., 11.,  8.,  0.,  0.,  4.,\n",
       "       12.,  0.,  0.,  8.,  8.,  0.,  0.,  5.,  8.,  0.,  0.,  9.,  8.,\n",
       "        0.,  0.,  4., 11.,  0.,  1., 12.,  7.,  0.,  0.,  2., 14.,  5.,\n",
       "       10., 12.,  0.,  0.,  0.,  0.,  6., 13., 10.,  0.,  0.,  0.])"
      ]
     },
     "execution_count": 65,
     "metadata": {},
     "output_type": "execute_result"
    }
   ],
   "source": [
    "# Accediendo al primer array de la primera imagen\n",
    "digits.data[0]"
   ]
  },
  {
   "cell_type": "code",
   "execution_count": 66,
   "id": "b119e183-74bc-48c3-961a-ec9da5ce2a32",
   "metadata": {},
   "outputs": [],
   "source": [
    "# reshape toma el array o vector y lo convierte en una matriz de 8x8\n",
    "image = np.reshape( digits.data[0], (8,8) )"
   ]
  },
  {
   "cell_type": "code",
   "execution_count": 67,
   "id": "03c43a9b-39a7-4ed2-9e10-4e0e6be8c1b5",
   "metadata": {},
   "outputs": [
    {
     "data": {
      "text/plain": [
       "<matplotlib.image.AxesImage at 0x7f7c72651210>"
      ]
     },
     "execution_count": 67,
     "metadata": {},
     "output_type": "execute_result"
    },
    {
     "data": {
      "image/png": "[encoded data removed]",
      "text/plain": [
       "<Figure size 640x480 with 1 Axes>"
      ]
     },
     "metadata": {},
     "output_type": "display_data"
    }
   ],
   "source": [
    "# imshow visualiza matrices de píxeles, mapas de calor y otras\n",
    "# representaciones visuales de datos bidimensionales (matriz)\n",
    "# cmap indica el mapa de color que usaremos\n",
    "plt.imshow( image, cmap = 'gray' )"
   ]
  },
  {
   "cell_type": "code",
   "execution_count": 68,
   "id": "6416d284-52e8-4582-b7e5-713442e7477b",
   "metadata": {},
   "outputs": [
    {
     "data": {
      "text/plain": [
       "0"
      ]
     },
     "execution_count": 68,
     "metadata": {},
     "output_type": "execute_result"
    }
   ],
   "source": [
    "# target de load_digits() contiene información sobre número expresado en la imagen de un array\n",
    "digits.target[0]"
   ]
  },
  {
   "cell_type": "markdown",
   "id": "b3801975-add8-405d-be2c-e56a52bb86f6",
   "metadata": {},
   "source": [
    "Esplit de Datos en Train y Test"
   ]
  },
  {
   "cell_type": "code",
   "execution_count": 3,
   "id": "0069446d-468c-48eb-b340-05eea9b0a357",
   "metadata": {},
   "outputs": [],
   "source": [
    "# train_test_split sirve para dividir un grupo de datos en datos de entrenamiento y datos de prueba\n",
    "from sklearn.model_selection import train_test_split\n",
    "# train_test_split recive 4 argumentos:\n",
    "# Matriz de datos, vector de etiquetas o clasificación, porcentaje para el test, aletoriedad con un valor constante (0)\n",
    "x_train, x_test, y_train, y_test = train_test_split( digits.data, digits.target, test_size=0.2, random_state=0 )\n",
    "\n",
    "# Nota: El vector de etiquetas se usa para las variables y_train, y_test que son los numeros que representa el array de una imagen"
   ]
  },
  {
   "cell_type": "code",
   "execution_count": 57,
   "id": "765a81f3-3719-47f5-b844-8366a770a717",
   "metadata": {},
   "outputs": [
    {
     "name": "stdout",
     "output_type": "stream",
     "text": [
      "datos Originales (1797, 64) \n",
      "datos de Entrenamiento (1437, 64) \n",
      "datos de Test (360, 64)\n"
     ]
    }
   ],
   "source": [
    "# .shape proporciona información sobre la forma de un arreglo multidimensional\n",
    "\n",
    "# Las dimension de nuestros datos originales eran de 1797 arrays con 64 elementos cada uno\n",
    "x_datos = digits.data.shape\n",
    "\n",
    "# Con train_test_split indicamos que el 20% de x_datos serán para test y 80% para train\n",
    "# 80% de los datos\n",
    "x_datos_train = x_train.shape\n",
    "# 20% de los datos\n",
    "x_datos_test = x_test.shape\n",
    "\n",
    "print(\"datos Originales\", x_datos, \"\\ndatos de Entrenamiento\", x_datos_train, \"\\ndatos de Test\",x_datos_test)\n"
   ]
  },
  {
   "cell_type": "markdown",
   "id": "3ee901e4-c9b2-4c6d-bccc-3c52d2fd7ee4",
   "metadata": {},
   "source": [
    "Entrenamiento del modelo de Regresión Logística"
   ]
  },
  {
   "cell_type": "code",
   "execution_count": 4,
   "id": "f1d5debc-0098-45fc-9b3b-f78fb267a9bb",
   "metadata": {},
   "outputs": [
    {
     "name": "stderr",
     "output_type": "stream",
     "text": [
      "/home/johnny/anaconda3/envs/regresionLogistica/lib/python3.11/site-packages/sklearn/linear_model/_logistic.py:458: ConvergenceWarning: lbfgs failed to converge (status=1):\n",
      "STOP: TOTAL NO. of ITERATIONS REACHED LIMIT.\n",
      "\n",
      "Increase the number of iterations (max_iter) or scale the data as shown in:\n",
      "    https://scikit-learn.org/stable/modules/preprocessing.html\n",
      "Please also refer to the documentation for alternative solver options:\n",
      "    https://scikit-learn.org/stable/modules/linear_model.html#logistic-regression\n",
      "  n_iter_i = _check_optimize_result(\n"
     ]
    },
    {
     "data": {
      "text/html": [
       "<style>#sk-container-id-1 {color: black;background-color: white;}#sk-container-id-1 pre{padding: 0;}#sk-container-id-1 div.sk-toggleable {background-color: white;}#sk-container-id-1 label.sk-toggleable__label {cursor: pointer;display: block;width: 100%;margin-bottom: 0;padding: 0.3em;box-sizing: border-box;text-align: center;}#sk-container-id-1 label.sk-toggleable__label-arrow:before {content: \"▸\";float: left;margin-right: 0.25em;color: #696969;}#sk-container-id-1 label.sk-toggleable__label-arrow:hover:before {color: black;}#sk-container-id-1 div.sk-estimator:hover label.sk-toggleable__label-arrow:before {color: black;}#sk-container-id-1 div.sk-toggleable__content {max-height: 0;max-width: 0;overflow: hidden;text-align: left;background-color: #f0f8ff;}#sk-container-id-1 div.sk-toggleable__content pre {margin: 0.2em;color: black;border-radius: 0.25em;background-color: #f0f8ff;}#sk-container-id-1 input.sk-toggleable__control:checked~div.sk-toggleable__content {max-height: 200px;max-width: 100%;overflow: auto;}#sk-container-id-1 input.sk-toggleable__control:checked~label.sk-toggleable__label-arrow:before {content: \"▾\";}#sk-container-id-1 div.sk-estimator input.sk-toggleable__control:checked~label.sk-toggleable__label {background-color: #d4ebff;}#sk-container-id-1 div.sk-label input.sk-toggleable__control:checked~label.sk-toggleable__label {background-color: #d4ebff;}#sk-container-id-1 input.sk-hidden--visually {border: 0;clip: rect(1px 1px 1px 1px);clip: rect(1px, 1px, 1px, 1px);height: 1px;margin: -1px;overflow: hidden;padding: 0;position: absolute;width: 1px;}#sk-container-id-1 div.sk-estimator {font-family: monospace;background-color: #f0f8ff;border: 1px dotted black;border-radius: 0.25em;box-sizing: border-box;margin-bottom: 0.5em;}#sk-container-id-1 div.sk-estimator:hover {background-color: #d4ebff;}#sk-container-id-1 div.sk-parallel-item::after {content: \"\";width: 100%;border-bottom: 1px solid gray;flex-grow: 1;}#sk-container-id-1 div.sk-label:hover label.sk-toggleable__label {background-color: #d4ebff;}#sk-container-id-1 div.sk-serial::before {content: \"\";position: absolute;border-left: 1px solid gray;box-sizing: border-box;top: 0;bottom: 0;left: 50%;z-index: 0;}#sk-container-id-1 div.sk-serial {display: flex;flex-direction: column;align-items: center;background-color: white;padding-right: 0.2em;padding-left: 0.2em;position: relative;}#sk-container-id-1 div.sk-item {position: relative;z-index: 1;}#sk-container-id-1 div.sk-parallel {display: flex;align-items: stretch;justify-content: center;background-color: white;position: relative;}#sk-container-id-1 div.sk-item::before, #sk-container-id-1 div.sk-parallel-item::before {content: \"\";position: absolute;border-left: 1px solid gray;box-sizing: border-box;top: 0;bottom: 0;left: 50%;z-index: -1;}#sk-container-id-1 div.sk-parallel-item {display: flex;flex-direction: column;z-index: 1;position: relative;background-color: white;}#sk-container-id-1 div.sk-parallel-item:first-child::after {align-self: flex-end;width: 50%;}#sk-container-id-1 div.sk-parallel-item:last-child::after {align-self: flex-start;width: 50%;}#sk-container-id-1 div.sk-parallel-item:only-child::after {width: 0;}#sk-container-id-1 div.sk-dashed-wrapped {border: 1px dashed gray;margin: 0 0.4em 0.5em 0.4em;box-sizing: border-box;padding-bottom: 0.4em;background-color: white;}#sk-container-id-1 div.sk-label label {font-family: monospace;font-weight: bold;display: inline-block;line-height: 1.2em;}#sk-container-id-1 div.sk-label-container {text-align: center;}#sk-container-id-1 div.sk-container {/* jupyter's `normalize.less` sets `[hidden] { display: none; }` but bootstrap.min.css set `[hidden] { display: none !important; }` so we also need the `!important` here to be able to override the default hidden behavior on the sphinx rendered scikit-learn.org. See: https://github.com/scikit-learn/scikit-learn/issues/21755 */display: inline-block !important;position: relative;}#sk-container-id-1 div.sk-text-repr-fallback {display: none;}</style><div id=\"sk-container-id-1\" class=\"sk-top-container\"><div class=\"sk-text-repr-fallback\"><pre>LogisticRegression()</pre><b>In a Jupyter environment, please rerun this cell to show the HTML representation or trust the notebook. <br />On GitHub, the HTML representation is unable to render, please try loading this page with nbviewer.org.</b></div><div class=\"sk-container\" hidden><div class=\"sk-item\"><div class=\"sk-estimator sk-toggleable\"><input class=\"sk-toggleable__control sk-hidden--visually\" id=\"sk-estimator-id-1\" type=\"checkbox\" checked><label for=\"sk-estimator-id-1\" class=\"sk-toggleable__label sk-toggleable__label-arrow\">LogisticRegression</label><div class=\"sk-toggleable__content\"><pre>LogisticRegression()</pre></div></div></div></div></div>"
      ],
      "text/plain": [
       "LogisticRegression()"
      ]
     },
     "execution_count": 4,
     "metadata": {},
     "output_type": "execute_result"
    }
   ],
   "source": [
    "# Guardamos el modelo de regresión logistica en una variable (logistic_rec)\n",
    "logistic_rec = LogisticRegression()\n",
    "# Usamos fit para realizar el entrenamineto\n",
    "logistic_rec.fit(x_train, y_train)\n",
    "\n",
    "# Nota: No te preocupes si sale STOP: TOTAL NO. of ITERATIONS REACHED LIMIT.\n",
    "# tambien puedes escalar o normalizar los datos x_train, y_train"
   ]
  },
  {
   "cell_type": "markdown",
   "id": "136a6beb-70a0-47fa-99ca-1d58996ae31d",
   "metadata": {},
   "source": [
    "Evaluación del modelo"
   ]
  },
  {
   "cell_type": "code",
   "execution_count": 5,
   "id": "cb124eee-4124-4d36-be8a-12b22bc14d36",
   "metadata": {},
   "outputs": [],
   "source": [
    "# Haciendo una predicción con el set de test\n",
    "predictions = logistic_rec.predict(x_test)"
   ]
  },
  {
   "cell_type": "code",
   "execution_count": 6,
   "id": "b6904aa5-7306-4273-9997-9b4f626dc629",
   "metadata": {},
   "outputs": [
    {
     "data": {
      "text/plain": [
       "array([[27,  0,  0,  0,  0,  0,  0,  0,  0,  0],\n",
       "       [ 0, 34,  0,  0,  0,  0,  0,  0,  1,  0],\n",
       "       [ 0,  0, 35,  1,  0,  0,  0,  0,  0,  0],\n",
       "       [ 0,  0,  0, 29,  0,  0,  0,  0,  0,  0],\n",
       "       [ 0,  0,  0,  0, 29,  0,  0,  1,  0,  0],\n",
       "       [ 0,  0,  0,  0,  0, 37,  0,  0,  0,  3],\n",
       "       [ 0,  1,  0,  0,  0,  0, 43,  0,  0,  0],\n",
       "       [ 0,  0,  0,  0,  1,  0,  0, 38,  0,  0],\n",
       "       [ 0,  2,  1,  0,  0,  0,  0,  0, 36,  0],\n",
       "       [ 0,  0,  0,  0,  0,  1,  0,  0,  0, 40]])"
      ]
     },
     "execution_count": 6,
     "metadata": {},
     "output_type": "execute_result"
    }
   ],
   "source": [
    "# Importamos una matriz de confusión\n",
    "from sklearn.metrics import confusion_matrix\n",
    "# Comparamos el resultado de predicción realizada con x_test con los resultados reales de y_test\n",
    "cm = confusion_matrix(y_test, predictions)\n",
    "cm"
   ]
  },
  {
   "cell_type": "markdown",
   "id": "efdc567c-e978-4fae-a045-5e322b744cda",
   "metadata": {},
   "source": [
    "Visualización de Datos"
   ]
  },
  {
   "cell_type": "code",
   "execution_count": 7,
   "id": "4ea8fca5-be5e-4a02-a379-9efa18a41204",
   "metadata": {},
   "outputs": [
    {
     "data": {
      "image/png": "[encoded data removed]",
      "text/plain": [
       "<Figure size 800x800 with 2 Axes>"
      ]
     },
     "metadata": {},
     "output_type": "display_data"
    }
   ],
   "source": [
    "# \"figure\" crea un lienzo en la que se pueden colocar gráficos\n",
    "# con \"figsize\" le indicamos un tamaño de 8x8 pulgadas\n",
    "plt.figure(figsize=(8,8))\n",
    "# heatmap visualiza matrices de datos bidimensionales como un mapa de colores\n",
    "# annot=True muestra los valores en las celdas\n",
    "sns.heatmap(cm, annot=True, linewidths=.5, square=True, cmap='coolwarm')\n",
    "plt.xlabel('Actual label')\n",
    "plt.ylabel('Predicted label')\n",
    "plt.show()"
   ]
  }
 ],
 "metadata": {
  "kernelspec": {
   "display_name": "Python 3 (ipykernel)",
   "language": "python",
   "name": "python3"
  },
  "language_info": {
   "codemirror_mode": {
    "name": "ipython",
    "version": 3
   },
   "file_extension": ".py",
   "mimetype": "text/x-python",
   "name": "python",
   "nbconvert_exporter": "python",
   "pygments_lexer": "ipython3",
   "version": "3.11.7"
  }
 },
 "nbformat": 4,
 "nbformat_minor": 5
}
