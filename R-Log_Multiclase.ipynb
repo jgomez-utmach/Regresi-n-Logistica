{
 "cells": [
  {
   "cell_type": "markdown",
   "id": "9fde94c7-28b0-4339-a42a-e4dd66519fa2",
   "metadata": {
    "editable": true,
    "slideshow": {
     "slide_type": ""
    },
    "tags": []
   },
   "source": [
    "## Importar Librerías"
   ]
  },
  {
   "cell_type": "code",
   "execution_count": 3,
   "id": "ad4f7fba-4a78-4d33-80fe-110cba57030d",
   "metadata": {},
   "outputs": [],
   "source": [
    "import matplotlib.pyplot as plt\n",
    "import pandas as pd\n",
    "import numpy as np\n",
    "from sklearn.model_selection import train_test_split\n",
    "from sklearn.linear_model import LogisticRegression\n",
    "from sklearn.metrics import confusion_matrix, accuracy_score, ConfusionMatrixDisplay\n",
    "from sklearn.preprocessing import StandardScaler\n",
    "import seaborn as sns"
   ]
  },
  {
   "cell_type": "markdown",
   "id": "7854a622-63e0-4185-afb8-e71be848131d",
   "metadata": {},
   "source": [
    "## Cargar Datos"
   ]
  },
  {
   "cell_type": "code",
   "execution_count": 4,
   "id": "cb77c0ec-170d-469a-810b-8c82ae4ee786",
   "metadata": {},
   "outputs": [],
   "source": [
    "# Cargamos el archivo CSV\n",
    "df = pd.read_csv('Dry_Bean.csv')"
   ]
  },
  {
   "cell_type": "code",
   "execution_count": 5,
   "id": "590168e2-e088-48c2-a3b1-9fd9fb353894",
   "metadata": {},
   "outputs": [
    {
     "data": {
      "text/html": [
       "<div>\n",
       "<style scoped>\n",
       "    .dataframe tbody tr th:only-of-type {\n",
       "        vertical-align: middle;\n",
       "    }\n",
       "\n",
       "    .dataframe tbody tr th {\n",
       "        vertical-align: top;\n",
       "    }\n",
       "\n",
       "    .dataframe thead th {\n",
       "        text-align: right;\n",
       "    }\n",
       "</style>\n",
       "<table border=\"1\" class=\"dataframe\">\n",
       "  <thead>\n",
       "    <tr style=\"text-align: right;\">\n",
       "      <th></th>\n",
       "      <th>Area</th>\n",
       "      <th>Perimeter</th>\n",
       "      <th>MajorAxisLength</th>\n",
       "      <th>MinorAxisLength</th>\n",
       "      <th>AspectRation</th>\n",
       "      <th>Eccentricity</th>\n",
       "      <th>ConvexArea</th>\n",
       "      <th>EquivDiameter</th>\n",
       "      <th>Extent</th>\n",
       "      <th>Solidity</th>\n",
       "      <th>roundness</th>\n",
       "      <th>Compactness</th>\n",
       "      <th>ShapeFactor1</th>\n",
       "      <th>ShapeFactor2</th>\n",
       "      <th>ShapeFactor3</th>\n",
       "      <th>ShapeFactor4</th>\n",
       "      <th>Class</th>\n",
       "    </tr>\n",
       "  </thead>\n",
       "  <tbody>\n",
       "    <tr>\n",
       "      <th>0</th>\n",
       "      <td>28395</td>\n",
       "      <td>610.291</td>\n",
       "      <td>208.178117</td>\n",
       "      <td>173.888747</td>\n",
       "      <td>1.197191</td>\n",
       "      <td>0.549812</td>\n",
       "      <td>28715</td>\n",
       "      <td>190.141097</td>\n",
       "      <td>0.763923</td>\n",
       "      <td>0.988856</td>\n",
       "      <td>0.958027</td>\n",
       "      <td>0.913358</td>\n",
       "      <td>0.007332</td>\n",
       "      <td>0.003147</td>\n",
       "      <td>0.834222</td>\n",
       "      <td>0.998724</td>\n",
       "      <td>SEKER</td>\n",
       "    </tr>\n",
       "    <tr>\n",
       "      <th>1</th>\n",
       "      <td>28734</td>\n",
       "      <td>638.018</td>\n",
       "      <td>200.524796</td>\n",
       "      <td>182.734419</td>\n",
       "      <td>1.097356</td>\n",
       "      <td>0.411785</td>\n",
       "      <td>29172</td>\n",
       "      <td>191.272751</td>\n",
       "      <td>0.783968</td>\n",
       "      <td>0.984986</td>\n",
       "      <td>0.887034</td>\n",
       "      <td>0.953861</td>\n",
       "      <td>0.006979</td>\n",
       "      <td>0.003564</td>\n",
       "      <td>0.909851</td>\n",
       "      <td>0.998430</td>\n",
       "      <td>SEKER</td>\n",
       "    </tr>\n",
       "    <tr>\n",
       "      <th>2</th>\n",
       "      <td>29380</td>\n",
       "      <td>624.110</td>\n",
       "      <td>212.826130</td>\n",
       "      <td>175.931143</td>\n",
       "      <td>1.209713</td>\n",
       "      <td>0.562727</td>\n",
       "      <td>29690</td>\n",
       "      <td>193.410904</td>\n",
       "      <td>0.778113</td>\n",
       "      <td>0.989559</td>\n",
       "      <td>0.947849</td>\n",
       "      <td>0.908774</td>\n",
       "      <td>0.007244</td>\n",
       "      <td>0.003048</td>\n",
       "      <td>0.825871</td>\n",
       "      <td>0.999066</td>\n",
       "      <td>SEKER</td>\n",
       "    </tr>\n",
       "    <tr>\n",
       "      <th>3</th>\n",
       "      <td>30008</td>\n",
       "      <td>645.884</td>\n",
       "      <td>210.557999</td>\n",
       "      <td>182.516516</td>\n",
       "      <td>1.153638</td>\n",
       "      <td>0.498616</td>\n",
       "      <td>30724</td>\n",
       "      <td>195.467062</td>\n",
       "      <td>0.782681</td>\n",
       "      <td>0.976696</td>\n",
       "      <td>0.903936</td>\n",
       "      <td>0.928329</td>\n",
       "      <td>0.007017</td>\n",
       "      <td>0.003215</td>\n",
       "      <td>0.861794</td>\n",
       "      <td>0.994199</td>\n",
       "      <td>SEKER</td>\n",
       "    </tr>\n",
       "    <tr>\n",
       "      <th>4</th>\n",
       "      <td>30140</td>\n",
       "      <td>620.134</td>\n",
       "      <td>201.847882</td>\n",
       "      <td>190.279279</td>\n",
       "      <td>1.060798</td>\n",
       "      <td>0.333680</td>\n",
       "      <td>30417</td>\n",
       "      <td>195.896503</td>\n",
       "      <td>0.773098</td>\n",
       "      <td>0.990893</td>\n",
       "      <td>0.984877</td>\n",
       "      <td>0.970516</td>\n",
       "      <td>0.006697</td>\n",
       "      <td>0.003665</td>\n",
       "      <td>0.941900</td>\n",
       "      <td>0.999166</td>\n",
       "      <td>SEKER</td>\n",
       "    </tr>\n",
       "  </tbody>\n",
       "</table>\n",
       "</div>"
      ],
      "text/plain": [
       "    Area  Perimeter  MajorAxisLength  MinorAxisLength  AspectRation  \\\n",
       "0  28395    610.291       208.178117       173.888747      1.197191   \n",
       "1  28734    638.018       200.524796       182.734419      1.097356   \n",
       "2  29380    624.110       212.826130       175.931143      1.209713   \n",
       "3  30008    645.884       210.557999       182.516516      1.153638   \n",
       "4  30140    620.134       201.847882       190.279279      1.060798   \n",
       "\n",
       "   Eccentricity  ConvexArea  EquivDiameter    Extent  Solidity  roundness  \\\n",
       "0      0.549812       28715     190.141097  0.763923  0.988856   0.958027   \n",
       "1      0.411785       29172     191.272751  0.783968  0.984986   0.887034   \n",
       "2      0.562727       29690     193.410904  0.778113  0.989559   0.947849   \n",
       "3      0.498616       30724     195.467062  0.782681  0.976696   0.903936   \n",
       "4      0.333680       30417     195.896503  0.773098  0.990893   0.984877   \n",
       "\n",
       "   Compactness  ShapeFactor1  ShapeFactor2  ShapeFactor3  ShapeFactor4  Class  \n",
       "0     0.913358      0.007332      0.003147      0.834222      0.998724  SEKER  \n",
       "1     0.953861      0.006979      0.003564      0.909851      0.998430  SEKER  \n",
       "2     0.908774      0.007244      0.003048      0.825871      0.999066  SEKER  \n",
       "3     0.928329      0.007017      0.003215      0.861794      0.994199  SEKER  \n",
       "4     0.970516      0.006697      0.003665      0.941900      0.999166  SEKER  "
      ]
     },
     "execution_count": 5,
     "metadata": {},
     "output_type": "execute_result"
    }
   ],
   "source": [
    "# Vemos las 5 primeras filas de CSV\n",
    "df.head()"
   ]
  },
  {
   "cell_type": "code",
   "execution_count": 6,
   "id": "fd809b1a-eb1f-42d7-b6ef-210723eedc6e",
   "metadata": {},
   "outputs": [
    {
     "data": {
      "text/plain": [
       "array(['SEKER', 'BARBUNYA', 'BOMBAY', 'CALI', 'HOROZ', 'SIRA', 'DERMASON'],\n",
       "      dtype=object)"
      ]
     },
     "execution_count": 6,
     "metadata": {},
     "output_type": "execute_result"
    }
   ],
   "source": [
    "# \"unique\" retorna los valores únicos de la columna 'Class'\n",
    "# ejm: [A,B,B,C,A] -> unique = [A,B,C]\n",
    "df['Class'].unique()"
   ]
  },
  {
   "cell_type": "code",
   "execution_count": 98,
   "id": "9280be8a-9faa-4c1a-a92d-ac85c0b9478b",
   "metadata": {},
   "outputs": [
    {
     "data": {
      "text/html": [
       "<div>\n",
       "<style scoped>\n",
       "    .dataframe tbody tr th:only-of-type {\n",
       "        vertical-align: middle;\n",
       "    }\n",
       "\n",
       "    .dataframe tbody tr th {\n",
       "        vertical-align: top;\n",
       "    }\n",
       "\n",
       "    .dataframe thead th {\n",
       "        text-align: right;\n",
       "    }\n",
       "</style>\n",
       "<table border=\"1\" class=\"dataframe\">\n",
       "  <thead>\n",
       "    <tr style=\"text-align: right;\">\n",
       "      <th></th>\n",
       "      <th>Area</th>\n",
       "      <th>Perimeter</th>\n",
       "      <th>MajorAxisLength</th>\n",
       "      <th>MinorAxisLength</th>\n",
       "      <th>AspectRation</th>\n",
       "      <th>Eccentricity</th>\n",
       "      <th>ConvexArea</th>\n",
       "      <th>EquivDiameter</th>\n",
       "      <th>Extent</th>\n",
       "      <th>Solidity</th>\n",
       "      <th>roundness</th>\n",
       "      <th>Compactness</th>\n",
       "      <th>ShapeFactor1</th>\n",
       "      <th>ShapeFactor2</th>\n",
       "      <th>ShapeFactor3</th>\n",
       "      <th>ShapeFactor4</th>\n",
       "    </tr>\n",
       "  </thead>\n",
       "  <tbody>\n",
       "    <tr>\n",
       "      <th>count</th>\n",
       "      <td>13611.000000</td>\n",
       "      <td>13611.000000</td>\n",
       "      <td>13611.000000</td>\n",
       "      <td>13611.000000</td>\n",
       "      <td>13611.000000</td>\n",
       "      <td>13611.000000</td>\n",
       "      <td>13611.000000</td>\n",
       "      <td>13611.000000</td>\n",
       "      <td>13611.000000</td>\n",
       "      <td>13611.000000</td>\n",
       "      <td>13611.000000</td>\n",
       "      <td>13611.000000</td>\n",
       "      <td>13611.000000</td>\n",
       "      <td>13611.000000</td>\n",
       "      <td>13611.000000</td>\n",
       "      <td>13611.000000</td>\n",
       "    </tr>\n",
       "    <tr>\n",
       "      <th>mean</th>\n",
       "      <td>53048.284549</td>\n",
       "      <td>855.283459</td>\n",
       "      <td>320.141867</td>\n",
       "      <td>202.270714</td>\n",
       "      <td>1.583242</td>\n",
       "      <td>0.750895</td>\n",
       "      <td>53768.200206</td>\n",
       "      <td>253.064220</td>\n",
       "      <td>0.749733</td>\n",
       "      <td>0.987143</td>\n",
       "      <td>0.873282</td>\n",
       "      <td>0.799864</td>\n",
       "      <td>0.006564</td>\n",
       "      <td>0.001716</td>\n",
       "      <td>0.643590</td>\n",
       "      <td>0.995063</td>\n",
       "    </tr>\n",
       "    <tr>\n",
       "      <th>std</th>\n",
       "      <td>29324.095717</td>\n",
       "      <td>214.289696</td>\n",
       "      <td>85.694186</td>\n",
       "      <td>44.970091</td>\n",
       "      <td>0.246678</td>\n",
       "      <td>0.092002</td>\n",
       "      <td>29774.915817</td>\n",
       "      <td>59.177120</td>\n",
       "      <td>0.049086</td>\n",
       "      <td>0.004660</td>\n",
       "      <td>0.059520</td>\n",
       "      <td>0.061713</td>\n",
       "      <td>0.001128</td>\n",
       "      <td>0.000596</td>\n",
       "      <td>0.098996</td>\n",
       "      <td>0.004366</td>\n",
       "    </tr>\n",
       "    <tr>\n",
       "      <th>min</th>\n",
       "      <td>20420.000000</td>\n",
       "      <td>524.736000</td>\n",
       "      <td>183.601165</td>\n",
       "      <td>122.512653</td>\n",
       "      <td>1.024868</td>\n",
       "      <td>0.218951</td>\n",
       "      <td>20684.000000</td>\n",
       "      <td>161.243764</td>\n",
       "      <td>0.555315</td>\n",
       "      <td>0.919246</td>\n",
       "      <td>0.489618</td>\n",
       "      <td>0.640577</td>\n",
       "      <td>0.002778</td>\n",
       "      <td>0.000564</td>\n",
       "      <td>0.410339</td>\n",
       "      <td>0.947687</td>\n",
       "    </tr>\n",
       "    <tr>\n",
       "      <th>25%</th>\n",
       "      <td>36328.000000</td>\n",
       "      <td>703.523500</td>\n",
       "      <td>253.303633</td>\n",
       "      <td>175.848170</td>\n",
       "      <td>1.432307</td>\n",
       "      <td>0.715928</td>\n",
       "      <td>36714.500000</td>\n",
       "      <td>215.068003</td>\n",
       "      <td>0.718634</td>\n",
       "      <td>0.985670</td>\n",
       "      <td>0.832096</td>\n",
       "      <td>0.762469</td>\n",
       "      <td>0.005900</td>\n",
       "      <td>0.001154</td>\n",
       "      <td>0.581359</td>\n",
       "      <td>0.993703</td>\n",
       "    </tr>\n",
       "    <tr>\n",
       "      <th>50%</th>\n",
       "      <td>44652.000000</td>\n",
       "      <td>794.941000</td>\n",
       "      <td>296.883367</td>\n",
       "      <td>192.431733</td>\n",
       "      <td>1.551124</td>\n",
       "      <td>0.764441</td>\n",
       "      <td>45178.000000</td>\n",
       "      <td>238.438026</td>\n",
       "      <td>0.759859</td>\n",
       "      <td>0.988283</td>\n",
       "      <td>0.883157</td>\n",
       "      <td>0.801277</td>\n",
       "      <td>0.006645</td>\n",
       "      <td>0.001694</td>\n",
       "      <td>0.642044</td>\n",
       "      <td>0.996386</td>\n",
       "    </tr>\n",
       "    <tr>\n",
       "      <th>75%</th>\n",
       "      <td>61332.000000</td>\n",
       "      <td>977.213000</td>\n",
       "      <td>376.495012</td>\n",
       "      <td>217.031741</td>\n",
       "      <td>1.707109</td>\n",
       "      <td>0.810466</td>\n",
       "      <td>62294.000000</td>\n",
       "      <td>279.446467</td>\n",
       "      <td>0.786851</td>\n",
       "      <td>0.990013</td>\n",
       "      <td>0.916869</td>\n",
       "      <td>0.834270</td>\n",
       "      <td>0.007271</td>\n",
       "      <td>0.002170</td>\n",
       "      <td>0.696006</td>\n",
       "      <td>0.997883</td>\n",
       "    </tr>\n",
       "    <tr>\n",
       "      <th>max</th>\n",
       "      <td>254616.000000</td>\n",
       "      <td>1985.370000</td>\n",
       "      <td>738.860154</td>\n",
       "      <td>460.198497</td>\n",
       "      <td>2.430306</td>\n",
       "      <td>0.911423</td>\n",
       "      <td>263261.000000</td>\n",
       "      <td>569.374358</td>\n",
       "      <td>0.866195</td>\n",
       "      <td>0.994677</td>\n",
       "      <td>0.990685</td>\n",
       "      <td>0.987303</td>\n",
       "      <td>0.010451</td>\n",
       "      <td>0.003665</td>\n",
       "      <td>0.974767</td>\n",
       "      <td>0.999733</td>\n",
       "    </tr>\n",
       "  </tbody>\n",
       "</table>\n",
       "</div>"
      ],
      "text/plain": [
       "                Area     Perimeter  MajorAxisLength  MinorAxisLength  \\\n",
       "count   13611.000000  13611.000000     13611.000000     13611.000000   \n",
       "mean    53048.284549    855.283459       320.141867       202.270714   \n",
       "std     29324.095717    214.289696        85.694186        44.970091   \n",
       "min     20420.000000    524.736000       183.601165       122.512653   \n",
       "25%     36328.000000    703.523500       253.303633       175.848170   \n",
       "50%     44652.000000    794.941000       296.883367       192.431733   \n",
       "75%     61332.000000    977.213000       376.495012       217.031741   \n",
       "max    254616.000000   1985.370000       738.860154       460.198497   \n",
       "\n",
       "       AspectRation  Eccentricity     ConvexArea  EquivDiameter        Extent  \\\n",
       "count  13611.000000  13611.000000   13611.000000   13611.000000  13611.000000   \n",
       "mean       1.583242      0.750895   53768.200206     253.064220      0.749733   \n",
       "std        0.246678      0.092002   29774.915817      59.177120      0.049086   \n",
       "min        1.024868      0.218951   20684.000000     161.243764      0.555315   \n",
       "25%        1.432307      0.715928   36714.500000     215.068003      0.718634   \n",
       "50%        1.551124      0.764441   45178.000000     238.438026      0.759859   \n",
       "75%        1.707109      0.810466   62294.000000     279.446467      0.786851   \n",
       "max        2.430306      0.911423  263261.000000     569.374358      0.866195   \n",
       "\n",
       "           Solidity     roundness   Compactness  ShapeFactor1  ShapeFactor2  \\\n",
       "count  13611.000000  13611.000000  13611.000000  13611.000000  13611.000000   \n",
       "mean       0.987143      0.873282      0.799864      0.006564      0.001716   \n",
       "std        0.004660      0.059520      0.061713      0.001128      0.000596   \n",
       "min        0.919246      0.489618      0.640577      0.002778      0.000564   \n",
       "25%        0.985670      0.832096      0.762469      0.005900      0.001154   \n",
       "50%        0.988283      0.883157      0.801277      0.006645      0.001694   \n",
       "75%        0.990013      0.916869      0.834270      0.007271      0.002170   \n",
       "max        0.994677      0.990685      0.987303      0.010451      0.003665   \n",
       "\n",
       "       ShapeFactor3  ShapeFactor4  \n",
       "count  13611.000000  13611.000000  \n",
       "mean       0.643590      0.995063  \n",
       "std        0.098996      0.004366  \n",
       "min        0.410339      0.947687  \n",
       "25%        0.581359      0.993703  \n",
       "50%        0.642044      0.996386  \n",
       "75%        0.696006      0.997883  \n",
       "max        0.974767      0.999733  "
      ]
     },
     "execution_count": 98,
     "metadata": {},
     "output_type": "execute_result"
    }
   ],
   "source": [
    "# resumen estadístico con metricas como:\n",
    "# conteo, media, desviación estandar, valor minimo, cuartiles, valor máximo\n",
    "df.describe()"
   ]
  },
  {
   "cell_type": "markdown",
   "id": "b137ea85-622e-4f1f-9597-0c54d7d9e20a",
   "metadata": {},
   "source": [
    "## Limpieza de Datos"
   ]
  },
  {
   "cell_type": "markdown",
   "id": "584ccd78-979f-4aa6-8977-2b72e871129c",
   "metadata": {},
   "source": [
    "### Eliminar Datos Duplicados"
   ]
  },
  {
   "cell_type": "code",
   "execution_count": 7,
   "id": "daed2d9d-5f46-4320-95ad-8ca99096e589",
   "metadata": {},
   "outputs": [],
   "source": [
    "df.drop_duplicates(inplace=True)"
   ]
  },
  {
   "cell_type": "markdown",
   "id": "c6434d4a-befb-43ab-8fc4-ca17b30fcf8f",
   "metadata": {},
   "source": [
    "### Manejo de Datos Nulos"
   ]
  },
  {
   "cell_type": "code",
   "execution_count": 100,
   "id": "48d0e484-1949-4a18-9e03-d67708b18b4b",
   "metadata": {},
   "outputs": [
    {
     "data": {
      "text/plain": [
       "Area               0\n",
       "Perimeter          0\n",
       "MajorAxisLength    0\n",
       "MinorAxisLength    0\n",
       "AspectRation       0\n",
       "Eccentricity       0\n",
       "ConvexArea         0\n",
       "EquivDiameter      0\n",
       "Extent             0\n",
       "Solidity           0\n",
       "roundness          0\n",
       "Compactness        0\n",
       "ShapeFactor1       0\n",
       "ShapeFactor2       0\n",
       "ShapeFactor3       0\n",
       "ShapeFactor4       0\n",
       "Class              0\n",
       "dtype: int64"
      ]
     },
     "execution_count": 100,
     "metadata": {},
     "output_type": "execute_result"
    }
   ],
   "source": [
    "# Comprobamos si existen datos nulos\n",
    "df.isnull().sum()"
   ]
  },
  {
   "cell_type": "markdown",
   "id": "19b1b0fa-5186-43ed-99c2-f25c601d8911",
   "metadata": {},
   "source": [
    "### Under Sampling"
   ]
  },
  {
   "cell_type": "code",
   "execution_count": 8,
   "id": "c05a811c-fd46-43fa-8ffc-feb05aef3cfb",
   "metadata": {},
   "outputs": [
    {
     "data": {
      "image/png": "[encoded data removed]",
      "text/plain": [
       "<Figure size 640x480 with 1 Axes>"
      ]
     },
     "metadata": {},
     "output_type": "display_data"
    }
   ],
   "source": [
    "# countplot grafica un conteo de datos\n",
    "sns.countplot(x='Class', data=df)\n",
    "# Rota en 45 grados las etiquetas de Class\n",
    "plt.xticks(rotation=45)\n",
    "plt.show()"
   ]
  },
  {
   "cell_type": "markdown",
   "id": "6e249fec-9161-4c4c-9b18-2049385be37a",
   "metadata": {},
   "source": [
    "En el grafico anterior observamos que hay una gran cantidad de datos para \"DERMASON\" y muy pocos para \"BOMBAY\" lo que se considera como un dataset no balanceado que podría afectar el desempreño de la regresión logística, por que aprenderá a predicir de mejor forma datos con mayor catidad de información al contrario de las que tienen poca información como la \"BOMBAY\""
   ]
  },
  {
   "cell_type": "markdown",
   "id": "05c97e93-c981-478d-bbac-5747335f38d2",
   "metadata": {},
   "source": [
    "Solución\n",
    "En este caso como tenemos 500 datos para \"BOMBAY\" consideramos que son datos suficientes para nuestra regresión logística, por lo que haremos \"under_sampling\" reduciendo los datos de las clases de frijoles al mínimo que son 500 datos"
   ]
  },
  {
   "cell_type": "code",
   "execution_count": 9,
   "id": "cf204838-5291-434c-a785-8531473462c3",
   "metadata": {},
   "outputs": [],
   "source": [
    "# RandomUnderSampler toma datos aleatoriamente para reducirlos al mínimo\n",
    "from imblearn.under_sampling import RandomUnderSampler\n",
    "undersample = RandomUnderSampler(random_state=42)"
   ]
  },
  {
   "cell_type": "code",
   "execution_count": 10,
   "id": "cd8d6e0d-d7ba-4040-9a32-e257675eb273",
   "metadata": {},
   "outputs": [],
   "source": [
    "# Separando las variables independiente de la variable Objetivo\n",
    "x = df.drop('Class', axis=1)\n",
    "y = df.Class"
   ]
  },
  {
   "cell_type": "code",
   "execution_count": 11,
   "id": "e0b7ac32-63b4-4ef6-9431-9eeb0a4787e4",
   "metadata": {},
   "outputs": [],
   "source": [
    "# implementamos el under_sampling en las variables (x,y) y\n",
    "# asignamos el resultado a las variables: x_over, y_over\n",
    "x_over, y_over = undersample.fit_resample(x, y)"
   ]
  },
  {
   "cell_type": "code",
   "execution_count": 12,
   "id": "1b29546e-2026-424f-b3f8-14b34b5b796a",
   "metadata": {},
   "outputs": [
    {
     "data": {
      "image/png": "[encoded data removed]",
      "text/plain": [
       "<Figure size 640x480 with 1 Axes>"
      ]
     },
     "metadata": {},
     "output_type": "display_data"
    }
   ],
   "source": [
    "# Comprobamos que los datos se nivelaron\n",
    "sns.countplot(x=y_over, data=x_over)\n",
    "plt.xticks(rotation=45)\n",
    "plt.show()"
   ]
  },
  {
   "cell_type": "markdown",
   "id": "f9ba789b-f244-4ad7-957b-9fcf904d9ae4",
   "metadata": {},
   "source": [
    "### Conversión a Numéricos"
   ]
  },
  {
   "cell_type": "code",
   "execution_count": 13,
   "id": "f621c5cf-c7c0-4067-9676-73c8da28b2fd",
   "metadata": {},
   "outputs": [
    {
     "data": {
      "text/plain": [
       "['BARBUNYA', 'BOMBAY', 'CALI', 'DERMASON', 'HOROZ', 'SEKER', 'SIRA']"
      ]
     },
     "execution_count": 13,
     "metadata": {},
     "output_type": "execute_result"
    }
   ],
   "source": [
    "# Listamos los campos únicos de la columna \"Class\" (y_over)\n",
    "list(np.unique(y_over))"
   ]
  },
  {
   "cell_type": "code",
   "execution_count": 14,
   "id": "f338e81d-e304-4f59-920a-2bc91d4197b2",
   "metadata": {},
   "outputs": [],
   "source": [
    "# Con \"replace\" asignamos un valor numérico a cada campo\n",
    "y_over.replace(['BARBUNYA', 'BOMBAY', 'CALI', 'DERMASON', 'HOROZ', 'SEKER', 'SIRA'], [1, 2, 3, 4, 5, 6, 7], inplace=True)"
   ]
  },
  {
   "cell_type": "code",
   "execution_count": 15,
   "id": "ee6e230c-8dcc-4929-8117-9be30de0a3f3",
   "metadata": {},
   "outputs": [
    {
     "data": {
      "text/plain": [
       "[1, 2, 3, 4, 5, 6, 7]"
      ]
     },
     "execution_count": 15,
     "metadata": {},
     "output_type": "execute_result"
    }
   ],
   "source": [
    "# Comprobamos los cambios\n",
    "list(np.unique(y_over))"
   ]
  },
  {
   "cell_type": "markdown",
   "id": "52b66740-747a-404f-b77c-55bf1b42dbdb",
   "metadata": {},
   "source": [
    "### Realizar Analisis de Correlación"
   ]
  },
  {
   "cell_type": "code",
   "execution_count": 93,
   "id": "dd0c88da-d7e8-4559-8a90-105158f36c53",
   "metadata": {},
   "outputs": [
    {
     "data": {
      "text/html": [
       "<div>\n",
       "<style scoped>\n",
       "    .dataframe tbody tr th:only-of-type {\n",
       "        vertical-align: middle;\n",
       "    }\n",
       "\n",
       "    .dataframe tbody tr th {\n",
       "        vertical-align: top;\n",
       "    }\n",
       "\n",
       "    .dataframe thead th {\n",
       "        text-align: right;\n",
       "    }\n",
       "</style>\n",
       "<table border=\"1\" class=\"dataframe\">\n",
       "  <thead>\n",
       "    <tr style=\"text-align: right;\">\n",
       "      <th></th>\n",
       "      <th>Area</th>\n",
       "      <th>Perimeter</th>\n",
       "      <th>MajorAxisLength</th>\n",
       "      <th>MinorAxisLength</th>\n",
       "      <th>AspectRation</th>\n",
       "      <th>Eccentricity</th>\n",
       "      <th>ConvexArea</th>\n",
       "      <th>EquivDiameter</th>\n",
       "      <th>Extent</th>\n",
       "      <th>Solidity</th>\n",
       "      <th>roundness</th>\n",
       "      <th>Compactness</th>\n",
       "      <th>ShapeFactor1</th>\n",
       "      <th>ShapeFactor2</th>\n",
       "      <th>ShapeFactor3</th>\n",
       "      <th>ShapeFactor4</th>\n",
       "      <th>Class</th>\n",
       "    </tr>\n",
       "  </thead>\n",
       "  <tbody>\n",
       "    <tr>\n",
       "      <th>2754</th>\n",
       "      <td>70776</td>\n",
       "      <td>1060.894</td>\n",
       "      <td>386.619944</td>\n",
       "      <td>234.100208</td>\n",
       "      <td>1.651515</td>\n",
       "      <td>0.795842</td>\n",
       "      <td>71978</td>\n",
       "      <td>300.191276</td>\n",
       "      <td>0.775763</td>\n",
       "      <td>0.983300</td>\n",
       "      <td>0.790227</td>\n",
       "      <td>0.776451</td>\n",
       "      <td>0.005463</td>\n",
       "      <td>0.001225</td>\n",
       "      <td>0.602875</td>\n",
       "      <td>0.995658</td>\n",
       "      <td>1</td>\n",
       "    </tr>\n",
       "    <tr>\n",
       "      <th>2506</th>\n",
       "      <td>66370</td>\n",
       "      <td>1004.139</td>\n",
       "      <td>339.287072</td>\n",
       "      <td>249.883085</td>\n",
       "      <td>1.357783</td>\n",
       "      <td>0.676443</td>\n",
       "      <td>67637</td>\n",
       "      <td>290.697280</td>\n",
       "      <td>0.720536</td>\n",
       "      <td>0.981268</td>\n",
       "      <td>0.827169</td>\n",
       "      <td>0.856789</td>\n",
       "      <td>0.005112</td>\n",
       "      <td>0.001699</td>\n",
       "      <td>0.734087</td>\n",
       "      <td>0.996731</td>\n",
       "      <td>1</td>\n",
       "    </tr>\n",
       "    <tr>\n",
       "      <th>2267</th>\n",
       "      <td>60736</td>\n",
       "      <td>985.501</td>\n",
       "      <td>342.445302</td>\n",
       "      <td>226.741775</td>\n",
       "      <td>1.510288</td>\n",
       "      <td>0.749393</td>\n",
       "      <td>61680</td>\n",
       "      <td>278.085377</td>\n",
       "      <td>0.789353</td>\n",
       "      <td>0.984695</td>\n",
       "      <td>0.785854</td>\n",
       "      <td>0.812058</td>\n",
       "      <td>0.005638</td>\n",
       "      <td>0.001512</td>\n",
       "      <td>0.659438</td>\n",
       "      <td>0.995941</td>\n",
       "      <td>1</td>\n",
       "    </tr>\n",
       "    <tr>\n",
       "      <th>2449</th>\n",
       "      <td>65219</td>\n",
       "      <td>1011.110</td>\n",
       "      <td>353.650546</td>\n",
       "      <td>235.308999</td>\n",
       "      <td>1.502920</td>\n",
       "      <td>0.746512</td>\n",
       "      <td>66672</td>\n",
       "      <td>288.165594</td>\n",
       "      <td>0.719436</td>\n",
       "      <td>0.978207</td>\n",
       "      <td>0.801654</td>\n",
       "      <td>0.814831</td>\n",
       "      <td>0.005423</td>\n",
       "      <td>0.001475</td>\n",
       "      <td>0.663950</td>\n",
       "      <td>0.997864</td>\n",
       "      <td>1</td>\n",
       "    </tr>\n",
       "    <tr>\n",
       "      <th>2076</th>\n",
       "      <td>51332</td>\n",
       "      <td>889.637</td>\n",
       "      <td>330.822804</td>\n",
       "      <td>198.618899</td>\n",
       "      <td>1.665616</td>\n",
       "      <td>0.799716</td>\n",
       "      <td>52283</td>\n",
       "      <td>255.651975</td>\n",
       "      <td>0.751688</td>\n",
       "      <td>0.981811</td>\n",
       "      <td>0.815028</td>\n",
       "      <td>0.772776</td>\n",
       "      <td>0.006445</td>\n",
       "      <td>0.001418</td>\n",
       "      <td>0.597183</td>\n",
       "      <td>0.994678</td>\n",
       "      <td>1</td>\n",
       "    </tr>\n",
       "  </tbody>\n",
       "</table>\n",
       "</div>"
      ],
      "text/plain": [
       "       Area  Perimeter  MajorAxisLength  MinorAxisLength  AspectRation  \\\n",
       "2754  70776   1060.894       386.619944       234.100208      1.651515   \n",
       "2506  66370   1004.139       339.287072       249.883085      1.357783   \n",
       "2267  60736    985.501       342.445302       226.741775      1.510288   \n",
       "2449  65219   1011.110       353.650546       235.308999      1.502920   \n",
       "2076  51332    889.637       330.822804       198.618899      1.665616   \n",
       "\n",
       "      Eccentricity  ConvexArea  EquivDiameter    Extent  Solidity  roundness  \\\n",
       "2754      0.795842       71978     300.191276  0.775763  0.983300   0.790227   \n",
       "2506      0.676443       67637     290.697280  0.720536  0.981268   0.827169   \n",
       "2267      0.749393       61680     278.085377  0.789353  0.984695   0.785854   \n",
       "2449      0.746512       66672     288.165594  0.719436  0.978207   0.801654   \n",
       "2076      0.799716       52283     255.651975  0.751688  0.981811   0.815028   \n",
       "\n",
       "      Compactness  ShapeFactor1  ShapeFactor2  ShapeFactor3  ShapeFactor4  \\\n",
       "2754     0.776451      0.005463      0.001225      0.602875      0.995658   \n",
       "2506     0.856789      0.005112      0.001699      0.734087      0.996731   \n",
       "2267     0.812058      0.005638      0.001512      0.659438      0.995941   \n",
       "2449     0.814831      0.005423      0.001475      0.663950      0.997864   \n",
       "2076     0.772776      0.006445      0.001418      0.597183      0.994678   \n",
       "\n",
       "      Class  \n",
       "2754      1  \n",
       "2506      1  \n",
       "2267      1  \n",
       "2449      1  \n",
       "2076      1  "
      ]
     },
     "execution_count": 93,
     "metadata": {},
     "output_type": "execute_result"
    }
   ],
   "source": [
    "x_over.head()"
   ]
  },
  {
   "cell_type": "code",
   "execution_count": 16,
   "id": "29883260-9411-48e5-a95f-18864fbbaca0",
   "metadata": {},
   "outputs": [],
   "source": [
    "# Juntamos las variables independientes y dependiente en la df_dea\n",
    "df_dea = x_over.copy()\n",
    "df_dea['Class'] = y_over\n",
    "\n",
    "# NOTA: Al querer asignar los datos de y_over a df_dea tambien se lo asignamos a x_over\n",
    "# esto es debido a que df_dea = x_over estarán ocupando la misma ubicación en memoria\n",
    "# y por eso le añadimos copy() a x_over para evitar ese problema"
   ]
  },
  {
   "cell_type": "code",
   "execution_count": 112,
   "id": "2d6e54ce-8fdc-426b-8fd3-c1a313d9d33b",
   "metadata": {},
   "outputs": [
    {
     "data": {
      "image/png": "[encoded data removed]",
      "text/plain": [
       "<Figure size 1400x800 with 2 Axes>"
      ]
     },
     "metadata": {},
     "output_type": "display_data"
    }
   ],
   "source": [
    "plt.figure(figsize=(14,8))\n",
    "sns.heatmap(df_dea.corr(), annot=True)\n",
    "plt.show()"
   ]
  },
  {
   "cell_type": "markdown",
   "id": "799c902e-a0a7-4a61-91fd-15cbea096055",
   "metadata": {},
   "source": [
    "**Gráfico:**\n",
    "- Los datos cercanos al 1 indican que están altamente correlacionada\n",
    "- Los datos cercanos al -1 indican que están inversamente correlacionada\n",
    "- Los datos cercanos al 0 indican que no tienen correlación"
   ]
  },
  {
   "cell_type": "markdown",
   "id": "df81cbb1-d7e7-4fbc-83be-8cc86b9be998",
   "metadata": {},
   "source": [
    "**Ejemplo de Alto Nivel de Correlación**\n",
    "- En el eje Y la variable 'ConvexArea' tiene un alto nivel de correlación en el eje X con 'Area, perimeter, MajorAxis...'\n",
    "- En el eje Y la variable 'EquivDiameter' tiene un alto nivel de correlación en el eje X con 'Area, perimeter, MajorAxis...'"
   ]
  },
  {
   "cell_type": "markdown",
   "id": "82e693ac-fbf2-4329-a650-8d5f3d0b2892",
   "metadata": {},
   "source": [
    "### Eliminar datos altamente Correlacionados"
   ]
  },
  {
   "cell_type": "markdown",
   "id": "b6515cea-acba-4b69-b55b-37c0955b0c18",
   "metadata": {},
   "source": [
    "La eliminicación de datos correlacionados dependerá su irrelevancia para el análisis, En algunos casos, las variables altamente correlacionadas pueden ser críticas para el problema en cuestión, y eliminarlas podría no ser deseable por lo que es importante tener un alto conocimiento de los datos que manejas y el negocio"
   ]
  },
  {
   "cell_type": "code",
   "execution_count": 17,
   "id": "618854a9-ceb5-410d-a5ce-5d133da64935",
   "metadata": {},
   "outputs": [],
   "source": [
    "# Procedemos a eliminar  'ConvexArea' y  'EquivDiameter'\n",
    "x_over.drop(['ConvexArea', 'EquivDiameter'], axis=1, inplace=True)"
   ]
  },
  {
   "cell_type": "code",
   "execution_count": 18,
   "id": "6736a993-71a0-498b-a6ba-49052aed549d",
   "metadata": {},
   "outputs": [
    {
     "data": {
      "text/html": [
       "<div>\n",
       "<style scoped>\n",
       "    .dataframe tbody tr th:only-of-type {\n",
       "        vertical-align: middle;\n",
       "    }\n",
       "\n",
       "    .dataframe tbody tr th {\n",
       "        vertical-align: top;\n",
       "    }\n",
       "\n",
       "    .dataframe thead th {\n",
       "        text-align: right;\n",
       "    }\n",
       "</style>\n",
       "<table border=\"1\" class=\"dataframe\">\n",
       "  <thead>\n",
       "    <tr style=\"text-align: right;\">\n",
       "      <th></th>\n",
       "      <th>Area</th>\n",
       "      <th>Perimeter</th>\n",
       "      <th>MajorAxisLength</th>\n",
       "      <th>MinorAxisLength</th>\n",
       "      <th>AspectRation</th>\n",
       "      <th>Eccentricity</th>\n",
       "      <th>Extent</th>\n",
       "      <th>Solidity</th>\n",
       "      <th>roundness</th>\n",
       "      <th>Compactness</th>\n",
       "      <th>ShapeFactor1</th>\n",
       "      <th>ShapeFactor2</th>\n",
       "      <th>ShapeFactor3</th>\n",
       "      <th>ShapeFactor4</th>\n",
       "    </tr>\n",
       "  </thead>\n",
       "  <tbody>\n",
       "    <tr>\n",
       "      <th>2754</th>\n",
       "      <td>70776</td>\n",
       "      <td>1060.894</td>\n",
       "      <td>386.619944</td>\n",
       "      <td>234.100208</td>\n",
       "      <td>1.651515</td>\n",
       "      <td>0.795842</td>\n",
       "      <td>0.775763</td>\n",
       "      <td>0.983300</td>\n",
       "      <td>0.790227</td>\n",
       "      <td>0.776451</td>\n",
       "      <td>0.005463</td>\n",
       "      <td>0.001225</td>\n",
       "      <td>0.602875</td>\n",
       "      <td>0.995658</td>\n",
       "    </tr>\n",
       "    <tr>\n",
       "      <th>2506</th>\n",
       "      <td>66370</td>\n",
       "      <td>1004.139</td>\n",
       "      <td>339.287072</td>\n",
       "      <td>249.883085</td>\n",
       "      <td>1.357783</td>\n",
       "      <td>0.676443</td>\n",
       "      <td>0.720536</td>\n",
       "      <td>0.981268</td>\n",
       "      <td>0.827169</td>\n",
       "      <td>0.856789</td>\n",
       "      <td>0.005112</td>\n",
       "      <td>0.001699</td>\n",
       "      <td>0.734087</td>\n",
       "      <td>0.996731</td>\n",
       "    </tr>\n",
       "    <tr>\n",
       "      <th>2267</th>\n",
       "      <td>60736</td>\n",
       "      <td>985.501</td>\n",
       "      <td>342.445302</td>\n",
       "      <td>226.741775</td>\n",
       "      <td>1.510288</td>\n",
       "      <td>0.749393</td>\n",
       "      <td>0.789353</td>\n",
       "      <td>0.984695</td>\n",
       "      <td>0.785854</td>\n",
       "      <td>0.812058</td>\n",
       "      <td>0.005638</td>\n",
       "      <td>0.001512</td>\n",
       "      <td>0.659438</td>\n",
       "      <td>0.995941</td>\n",
       "    </tr>\n",
       "    <tr>\n",
       "      <th>2449</th>\n",
       "      <td>65219</td>\n",
       "      <td>1011.110</td>\n",
       "      <td>353.650546</td>\n",
       "      <td>235.308999</td>\n",
       "      <td>1.502920</td>\n",
       "      <td>0.746512</td>\n",
       "      <td>0.719436</td>\n",
       "      <td>0.978207</td>\n",
       "      <td>0.801654</td>\n",
       "      <td>0.814831</td>\n",
       "      <td>0.005423</td>\n",
       "      <td>0.001475</td>\n",
       "      <td>0.663950</td>\n",
       "      <td>0.997864</td>\n",
       "    </tr>\n",
       "    <tr>\n",
       "      <th>2076</th>\n",
       "      <td>51332</td>\n",
       "      <td>889.637</td>\n",
       "      <td>330.822804</td>\n",
       "      <td>198.618899</td>\n",
       "      <td>1.665616</td>\n",
       "      <td>0.799716</td>\n",
       "      <td>0.751688</td>\n",
       "      <td>0.981811</td>\n",
       "      <td>0.815028</td>\n",
       "      <td>0.772776</td>\n",
       "      <td>0.006445</td>\n",
       "      <td>0.001418</td>\n",
       "      <td>0.597183</td>\n",
       "      <td>0.994678</td>\n",
       "    </tr>\n",
       "  </tbody>\n",
       "</table>\n",
       "</div>"
      ],
      "text/plain": [
       "       Area  Perimeter  MajorAxisLength  MinorAxisLength  AspectRation  \\\n",
       "2754  70776   1060.894       386.619944       234.100208      1.651515   \n",
       "2506  66370   1004.139       339.287072       249.883085      1.357783   \n",
       "2267  60736    985.501       342.445302       226.741775      1.510288   \n",
       "2449  65219   1011.110       353.650546       235.308999      1.502920   \n",
       "2076  51332    889.637       330.822804       198.618899      1.665616   \n",
       "\n",
       "      Eccentricity    Extent  Solidity  roundness  Compactness  ShapeFactor1  \\\n",
       "2754      0.795842  0.775763  0.983300   0.790227     0.776451      0.005463   \n",
       "2506      0.676443  0.720536  0.981268   0.827169     0.856789      0.005112   \n",
       "2267      0.749393  0.789353  0.984695   0.785854     0.812058      0.005638   \n",
       "2449      0.746512  0.719436  0.978207   0.801654     0.814831      0.005423   \n",
       "2076      0.799716  0.751688  0.981811   0.815028     0.772776      0.006445   \n",
       "\n",
       "      ShapeFactor2  ShapeFactor3  ShapeFactor4  \n",
       "2754      0.001225      0.602875      0.995658  \n",
       "2506      0.001699      0.734087      0.996731  \n",
       "2267      0.001512      0.659438      0.995941  \n",
       "2449      0.001475      0.663950      0.997864  \n",
       "2076      0.001418      0.597183      0.994678  "
      ]
     },
     "execution_count": 18,
     "metadata": {},
     "output_type": "execute_result"
    }
   ],
   "source": [
    "x_over.head()"
   ]
  },
  {
   "cell_type": "markdown",
   "id": "4a83b80e-6dc0-4b38-b45b-20ba4492b9be",
   "metadata": {},
   "source": [
    "## Visualización de Datos"
   ]
  },
  {
   "cell_type": "code",
   "execution_count": null,
   "id": "d9535dd4-a8cf-4686-b200-c4079be358d7",
   "metadata": {},
   "outputs": [],
   "source": [
    "# NOTA: ESTO DEMORA DEMASIADO\n",
    "# Muestra graficas de dispersión de puntos entre todas la variables segmentadas por 'Class'\n",
    "sns.pairplot(df_dea, hue='Class')"
   ]
  },
  {
   "cell_type": "markdown",
   "id": "83ef3f37-1332-4e18-bc82-170cf22f264f",
   "metadata": {},
   "source": [
    "El objetivo de la grafica de dispersión es notar como cada segmento se distribuyen sobre ciertas areas indicando que son altamente clasificables"
   ]
  },
  {
   "cell_type": "markdown",
   "id": "c2cfb1d5-ddf3-46e5-8073-0949b1d536ca",
   "metadata": {},
   "source": [
    "## Split y escalamiento de Datos"
   ]
  },
  {
   "cell_type": "code",
   "execution_count": 19,
   "id": "8fb7c0a2-055e-4e56-93c2-d5ec0c5421b7",
   "metadata": {},
   "outputs": [],
   "source": [
    "# Separando en datos de entrenamiento y test\n",
    "# shuffle=True para garantizar una división aleatoria y representativa de los datos en los conjuntos de entrenamiento y prueba\n",
    "# shuffle=False, los datos se dividirán en el orden en que aparecen en el conjunto de datos.\n",
    "x_train, x_test, y_train, y_test = train_test_split(x_over, y_over, test_size=.2, random_state=42, shuffle=True)"
   ]
  },
  {
   "cell_type": "code",
   "execution_count": 20,
   "id": "808c83f3-65aa-42e3-9f31-f6192ba2d07d",
   "metadata": {},
   "outputs": [],
   "source": [
    "# Asignamos metodo de estandarización a una variable\n",
    "st_x = StandardScaler()\n",
    "# Escalamos o Normalizando datos con fit_transform\n",
    "# fit_transform calcula la media y distribución estandar, luego aplica la tranformación\n",
    "x_train = st_x.fit_transform(x_train)\n",
    "# Escalamos datos solo con transform\n",
    "# Como ya calculamos anteriormente la media y su distribución estandar solo necesitamos aplicar la transformación\n",
    "x_test = st_x.transform(x_test)"
   ]
  },
  {
   "cell_type": "markdown",
   "id": "316cd20c-a3b1-493d-8fc4-f02b0596f09f",
   "metadata": {},
   "source": [
    "## Entrenamiento del modelo"
   ]
  },
  {
   "cell_type": "markdown",
   "id": "ff0d3132-a6e3-49f0-8b83-2d357e2180e3",
   "metadata": {},
   "source": [
    "#### Explicación de los argumentos de LogisticRegression.. net."
   ]
  },
  {
   "cell_type": "markdown",
   "id": "4fb0534a-1cba-4183-bef2-9fedb1d8ecc2",
   "metadata": {},
   "source": [
    "1. **solver** especifica el algoritmo que se utilizará para la optimización\n",
    "\n",
    "    - 'lbfgs': Algoritmo de optimización quasi-Newton.\n",
    "    - 'liblinear': Algoritmo de descenso de gradiente estocástico.\n",
    "    - 'newton-cg': Método de Newton conjugado.\n",
    "    - 'sag': Gradiente estocástico promedio.\n",
    "    - 'saga': Versión mejorada de 'sag' que también admite penalizaciones de elastic net.\n",
    "\n",
    "2. **multi_class** especifica cómo se manejan las clasificaciones multiclase.\n",
    "    - 'ovr' (uno contra el resto): Crea un clasificador por cada clase y clasifica en función de la clase que tenga la probabilidad más alta.\n",
    "    - 'multinomial': Utiliza una pérdida multinomial y un optimizador que soporta directamente la clasificación multiclase. No es compatible con 'liblinear' solver.\n",
    "    - 'auto': Delega la elección entre 'ovr' y 'multinomial' al solver.\n",
    "    - Nota: 'ovr' se elige para los solucionadores 'liblinear', 'sag' y 'saga', y 'multinomial' para 'newton-cg', 'lbfgs' y 'sag'.\n",
    "\n",
    "4. **n_jobs** especifica el número de núcleos de CPU que se utilizarán para realizar el ajuste\n",
    "    - None (predeterminado): Utiliza un solo núcleo.\n",
    "    - -1: Utiliza todos los núcleos disponibles.\n",
    "\n",
    "5. **C** ayuda a prevenir el sobreajuste (overfitting), recive valores positivos y no hay un límite\n",
    "    - Un valor alto de C indica una menor regularización\n",
    "    - Un valor bajo de C indica una mayor regularización"
   ]
  },
  {
   "cell_type": "markdown",
   "id": "c3d2a92d-4701-43f5-9764-b286d7644de1",
   "metadata": {
    "jp-MarkdownHeadingCollapsed": true
   },
   "source": [
    "### Configuración del Modelo"
   ]
  },
  {
   "cell_type": "code",
   "execution_count": 21,
   "id": "54a9fe6f-7586-4285-bb6f-7d3a854bd39a",
   "metadata": {},
   "outputs": [],
   "source": [
    "# Creamos un función que retorna un modelo de regresión logistica con las configuraciones dadas por parámetro\n",
    "def logistic_model(solver_, multiclass_, C_):\n",
    "    logistic_regression_model = LogisticRegression(random_state=42, solver= solver_, multi_class= multiclass_, n_jobs=-1, C=C_)\n",
    "    return logistic_regression_model"
   ]
  },
  {
   "cell_type": "code",
   "execution_count": 22,
   "id": "8600f321-5aef-4616-ab94-2d8ebdcfa1ac",
   "metadata": {},
   "outputs": [
    {
     "name": "stdout",
     "output_type": "stream",
     "text": [
      "[[119   0   5   0   1   0   3]\n",
      " [  0  98   0   0   0   0   0]\n",
      " [  5   0  97   0   0   0   1]\n",
      " [  0   0   0  90   0   5  10]\n",
      " [  0   0   4   1  91   0   0]\n",
      " [  3   0   0   0   0  84   4]\n",
      " [  0   0   1   6   6   0  97]]\n",
      "0.9247606019151847\n"
     ]
    }
   ],
   "source": [
    "# Usando la función anterior llamamos a un modelo de regresión lineal\n",
    "model = logistic_model('saga', 'multinomial', 1)\n",
    "# Entrenamos al modelo\n",
    "model.fit(x_train, y_train)\n",
    "# Realizamos una predicción\n",
    "predictions = model.predict(x_test)\n",
    "# Comparamos aciertos en una matriz de confusión\n",
    "print(confusion_matrix(y_test, predictions))\n",
    "# imprimimos el porcentaje de precisión\n",
    "print(accuracy_score(y_test, predictions))"
   ]
  },
  {
   "cell_type": "code",
   "execution_count": 25,
   "id": "54373dc8-e2b8-40a5-93f9-cae10146de97",
   "metadata": {},
   "outputs": [
    {
     "name": "stderr",
     "output_type": "stream",
     "text": [
      "/home/johnny/anaconda3/envs/regresionLogistica/lib/python3.11/site-packages/sklearn/linear_model/_logistic.py:458: ConvergenceWarning: lbfgs failed to converge (status=1):\n",
      "STOP: TOTAL NO. of ITERATIONS REACHED LIMIT.\n",
      "\n",
      "Increase the number of iterations (max_iter) or scale the data as shown in:\n",
      "    https://scikit-learn.org/stable/modules/preprocessing.html\n",
      "Please also refer to the documentation for alternative solver options:\n",
      "    https://scikit-learn.org/stable/modules/linear_model.html#logistic-regression\n",
      "  n_iter_i = _check_optimize_result(\n"
     ]
    }
   ],
   "source": [
    "# Listamos las opciones de clasificación\n",
    "multiclass = ['ovr', 'multinomial']\n",
    "# Listamos las opciones de algoritmos\n",
    "solver_list = ['liblinear', 'newton-cg', 'lbfgs', 'sag', 'saga']\n",
    "# array donde se guardarán los porcentajes de precición\n",
    "scores=[]\n",
    "# array donde se guardarán los nombres de la combinaciones de parametros realizadas\n",
    "params=[]\n",
    "# Realizamos una iteración sobre cada una de la opciones de multiclass\n",
    "for i in multiclass:\n",
    "    # Por cada opción de multiclass iteramos cada unos de las opciones de algoritmos\n",
    "    for j in solver_list:\n",
    "        # como las clasificaciones no funcionan con todos los algoritmos realizamos un try except\n",
    "        # try recibe las combinaciones permitidas y except la no permitidas\n",
    "        try:\n",
    "            model = logistic_model(j, i, 1)\n",
    "            model.fit(x_train, y_train)\n",
    "            predictions = model.predict(x_test)\n",
    "            params.append(i + '-' + j)\n",
    "            accuraccy = accuracy_score(y_test, predictions)\n",
    "            scores.append(accuraccy)\n",
    "        except:\n",
    "            # las combinaciones no permitidas solo se ignoran\n",
    "            None"
   ]
  },
  {
   "cell_type": "code",
   "execution_count": 26,
   "id": "73ff172b-5e63-4f4c-8c38-f1a4fbece1cb",
   "metadata": {},
   "outputs": [
    {
     "data": {
      "text/plain": [
       "(0.9, 0.93)"
      ]
     },
     "execution_count": 26,
     "metadata": {},
     "output_type": "execute_result"
    },
    {
     "data": {
      "image/png": "[encoded data removed]",
      "text/plain": [
       "<Figure size 1500x1000 with 1 Axes>"
      ]
     },
     "metadata": {},
     "output_type": "display_data"
    }
   ],
   "source": [
    "fig = plt.figure(figsize=(15,10))\n",
    "# En una grafica de barras mostramos todas las configuraciones realizadas y sus porcentajes de precisión\n",
    "sns.barplot(x=params, y=scores).set_title('Beans Accuracy')\n",
    "# Rotamos las etiquetas de x 90 grados\n",
    "plt.xticks(rotation=90)\n",
    "# indicamos una proporción del eje y a observar, es como hacer un zoom a una sección\n",
    "plt.ylim([ 0.9, 0.93 ])"
   ]
  },
  {
   "cell_type": "markdown",
   "id": "0cb2673a-6e98-44e1-a2cd-6e6e75154c28",
   "metadata": {},
   "source": [
    "En la gráfica comprobamos que la configuración con mayor precisión es: multi_calss='multinomial', solver='newton-cg'"
   ]
  },
  {
   "cell_type": "code",
   "execution_count": 30,
   "id": "26e73fd4-f375-4ae7-825c-5b1cb639eff4",
   "metadata": {},
   "outputs": [
    {
     "name": "stdout",
     "output_type": "stream",
     "text": [
      "[[119   0   5   0   1   0   3]\n",
      " [  0  98   0   0   0   0   0]\n",
      " [  5   0  97   0   0   0   1]\n",
      " [  0   0   0  90   0   5  10]\n",
      " [  0   0   4   1  91   0   0]\n",
      " [  3   0   0   0   0  84   4]\n",
      " [  0   0   1   6   6   0  97]]\n",
      "0.9247606019151847\n"
     ]
    }
   ],
   "source": [
    "# implementamos el modelo con la mejor configuración que indica la gráfica\n",
    "model = logistic_model('newton-cg', 'multinomial', 1)\n",
    "model.fit(x_train, y_train)\n",
    "predictions = model.predict(x_test)\n",
    "print(confusion_matrix(y_test, predictions))\n",
    "print(accuracy_score(y_test, predictions))"
   ]
  },
  {
   "cell_type": "code",
   "execution_count": 31,
   "id": "a6aaa3a8-17a0-401c-bf83-38adc89ea328",
   "metadata": {},
   "outputs": [
    {
     "data": {
      "image/png": "[encoded data removed]",
      "text/plain": [
       "<Figure size 640x480 with 2 Axes>"
      ]
     },
     "metadata": {},
     "output_type": "display_data"
    }
   ],
   "source": [
    "# Configuramos una matriz de confusion con los datos de test, predicción y le indicamos los nombres de los labels\n",
    "cm = confusion_matrix(y_test, predictions, labels=model.classes_)\n",
    "# Mejoramos la visualización o estilo de la matriz de confusión\n",
    "disp = ConfusionMatrixDisplay(confusion_matrix=cm, display_labels=model.classes_)\n",
    "# Indicamos un mapa de color para pintar la matriz\n",
    "disp.plot(cmap='Blues')\n",
    "# Visualizamos\n",
    "plt.show()"
   ]
  },
  {
   "cell_type": "markdown",
   "id": "c0e01791-b47c-40b3-a706-30ecf4af88c1",
   "metadata": {
    "jp-MarkdownHeadingCollapsed": true
   },
   "source": [
    "### Otra forma de encontrar la mejor configuración para nuestro Modelo"
   ]
  },
  {
   "cell_type": "code",
   "execution_count": 33,
   "id": "09f17bf8-e3f1-4a74-b423-909b6948ad93",
   "metadata": {},
   "outputs": [
    {
     "name": "stdout",
     "output_type": "stream",
     "text": [
      "Mejores hiperparámetros: {'multi_class': 'multinomial', 'solver': 'newton-cg'}\n",
      "Matriz de Confusión:\n",
      "[[119   0   5   0   1   0   3]\n",
      " [  0  98   0   0   0   0   0]\n",
      " [  5   0  97   0   0   0   1]\n",
      " [  0   0   0  90   0   5  10]\n",
      " [  0   0   4   1  91   0   0]\n",
      " [  3   0   0   0   0  84   4]\n",
      " [  0   0   1   6   6   0  97]]\n",
      "Precisión: 0.9247606019151847\n"
     ]
    }
   ],
   "source": [
    "from sklearn.model_selection import GridSearchCV\n",
    "import warnings\n",
    "# Ignoramos los warnings\n",
    "warnings.filterwarnings('ignore')\n",
    "# llamamos al modelo\n",
    "logreg = LogisticRegression()\n",
    "# Listamos todos las opciones para los parámetros solver y multi_class\n",
    "parameters = {'solver': ['liblinear', 'newton-cg', 'lbfgs', 'sag', 'saga'], 'multi_class':['ovr', 'multinomial']}\n",
    "# Usamos GridSearchCV para encontrar e implementar la mejor combinación de hiperparámetros (solver y multi_class)\n",
    "clf = GridSearchCV(logreg, param_grid=parameters, scoring='accuracy', cv=10)\n",
    "# Realizamos el entrenamiento\n",
    "clf.fit(x_train, y_train)\n",
    "# Imprimir la mejor configuración de hiperparámetros encontrada\n",
    "print(\"Mejores hiperparámetros:\", clf.best_params_)\n",
    "# Predecir con el modelo ajustado\n",
    "pred = clf.predict(x_test)\n",
    "# Imprimir la matriz de confusión y la precisión\n",
    "print(\"Matriz de Confusión:\")\n",
    "print(confusion_matrix(y_test, pred))\n",
    "print(\"Precisión:\", accuracy_score(y_test, pred))"
   ]
  },
  {
   "cell_type": "markdown",
   "id": "f7dca733-26e6-4e60-94f4-72ef8a5feeee",
   "metadata": {
    "jp-MarkdownHeadingCollapsed": true
   },
   "source": [
    "### Buscando Overfitting con Validación Cruzada"
   ]
  },
  {
   "cell_type": "code",
   "execution_count": 32,
   "id": "2ad866d3-7bd1-48a3-bd27-e61e19538ba3",
   "metadata": {},
   "outputs": [
    {
     "name": "stdout",
     "output_type": "stream",
     "text": [
      "Puntuaciones de validación cruzada: [0.91156463 0.97260274 0.87671233 0.93150685 0.93150685]\n",
      "Puntuación media: 0.9247786785947255\n",
      "Desviación estándar de las puntuaciones: 0.031185453536081525\n"
     ]
    }
   ],
   "source": [
    "# Usando Validación cruzada para evaluar si existe overfitting\n",
    "from sklearn.model_selection import KFold\n",
    "from sklearn.model_selection import cross_val_score\n",
    "# Llamamos al modelos con la mejor configuración encontrada\n",
    "model_2 = logistic_model('newton-cg', 'multinomial', 1)\n",
    "kfold = KFold(n_splits=5)\n",
    "# cross_val_score se utiliza para realizar validación cruzada y obtener las puntuaciones (scores)\n",
    "# para diferentes pliegues del conjunto de datos.\n",
    "scores = cross_val_score(model_2, x_test, y_test, cv=kfold)\n",
    "# Imprimir las puntuaciones de validación cruzada\n",
    "print(\"Puntuaciones de validación cruzada:\", scores)\n",
    "# Imprimir la puntuación media y la desviación estándar de las puntuaciones\n",
    "print(\"Puntuación media:\", scores.mean())\n",
    "print(\"Desviación estándar de las puntuaciones:\", scores.std())"
   ]
  },
  {
   "cell_type": "markdown",
   "id": "eb5c6004-cc0c-4110-8a4a-a9c841044b5a",
   "metadata": {},
   "source": [
    "**OBSERVACIÓN DE DATOS DE VALIDACIÓN CRUZADA**\n",
    "1. Puntuaciones de Validación Cruzada:\r",
    "    - \r\n",
    "Las puntuaciones individuales para cada pliegue están bastante cerca entre sí, lo cual es una buena señal de consistenc \n",
    "2. Puntuación Media:\r",
    "    - \r\n",
    "La puntuación media es alta (0.92), lo cual es positivo. Indica que, en promedio, el modelo tiene un buen rendimiento en los pliegues de validaci\n",
    "3. Desviación Estándar:\n",
    "    - \r\n",
    "La desviación estándar es relativamente baja (0.03), lo cual sugiere que las puntuaciones son consistentes entre los pliegu\n",
    "s.n.a."
   ]
  }
 ],
 "metadata": {
  "kernelspec": {
   "display_name": "Python 3 (ipykernel)",
   "language": "python",
   "name": "python3"
  },
  "language_info": {
   "codemirror_mode": {
    "name": "ipython",
    "version": 3
   },
   "file_extension": ".py",
   "mimetype": "text/x-python",
   "name": "python",
   "nbconvert_exporter": "python",
   "pygments_lexer": "ipython3",
   "version": "3.11.7"
  }
 },
 "nbformat": 4,
 "nbformat_minor": 5
}
